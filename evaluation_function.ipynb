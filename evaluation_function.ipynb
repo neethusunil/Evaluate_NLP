{
  "nbformat": 4,
  "nbformat_minor": 0,
  "metadata": {
    "colab": {
      "name": "evaluation_function.ipynb",
      "provenance": [],
      "include_colab_link": true
    },
    "kernelspec": {
      "name": "python3",
      "display_name": "Python 3"
    },
    "language_info": {
      "name": "python"
    }
  },
  "cells": [
    {
      "cell_type": "markdown",
      "metadata": {
        "id": "view-in-github",
        "colab_type": "text"
      },
      "source": [
        "<a href=\"https://colab.research.google.com/github/neethusunil/Evaluate_NLP/blob/main/evaluation_function.ipynb\" target=\"_parent\"><img src=\"https://colab.research.google.com/assets/colab-badge.svg\" alt=\"Open In Colab\"/></a>"
      ]
    },
    {
      "cell_type": "code",
      "source": [
        "actual = [\"1x接種 91xCUT 97xH 98xH 99xH 100xH 101xH 105xH 107xH 109xW 110xWM 115xH 116xH 117xH 118xH 119xH 120xH 121xH 122xH 123xH 124xH 126xH 127xH 129xW 130xWM 134xH 135xH 136xH 137xH 138xH 139xH 140xH 143xH 145xH 146xH 147xW 148xWM 153xH 154xH 155xH 156xH 157xH 158xH 159x廃棄\"]\n",
        "predicted = [\"1x接種 91xCUT 97xH 98xH 99xH 100xH 101xh 105xh 107xh 109xw 110xwm 115xh 116xh 117xh 118xh 119xh 120xh 121xh 122xh 123xh 124xh 126xh 127xh 129xw 130xwm 134xh 135xh 136xh 137xh 138xh 139xh 140xh 143xh 145xh 146xh 147xw 148xwm 153xh 154xh 155xh 156xh 157xh 158xh 159x廃棄\"]"
      ],
      "metadata": {
        "id": "ySuyccGniPjS"
      },
      "execution_count": null,
      "outputs": []
    },
    {
      "cell_type": "code",
      "source": [
        "pip install rouge\n"
      ],
      "metadata": {
        "colab": {
          "base_uri": "https://localhost:8080/"
        },
        "id": "hqDgERyUiTuq",
        "outputId": "30ef54f7-4637-4bce-97f3-6ffc9405a515"
      },
      "execution_count": null,
      "outputs": [
        {
          "output_type": "stream",
          "name": "stdout",
          "text": [
            "Looking in indexes: https://pypi.org/simple, https://us-python.pkg.dev/colab-wheels/public/simple/\n",
            "Collecting rouge\n",
            "  Downloading rouge-1.0.1-py3-none-any.whl (13 kB)\n",
            "Requirement already satisfied: six in /usr/local/lib/python3.7/dist-packages (from rouge) (1.15.0)\n",
            "Installing collected packages: rouge\n",
            "Successfully installed rouge-1.0.1\n"
          ]
        }
      ]
    },
    {
      "cell_type": "code",
      "source": [
        "pip install cider"
      ],
      "metadata": {
        "colab": {
          "base_uri": "https://localhost:8080/"
        },
        "id": "6JmgtIQOiyKh",
        "outputId": "53b1a714-fb6b-4650-e4c5-0b998e99770c"
      },
      "execution_count": null,
      "outputs": [
        {
          "output_type": "stream",
          "name": "stdout",
          "text": [
            "Looking in indexes: https://pypi.org/simple, https://us-python.pkg.dev/colab-wheels/public/simple/\n",
            "Collecting cider\n",
            "  Downloading cider-1.1.12.tar.gz (24 kB)\n",
            "Requirement already satisfied: click<8.0,>=7.0 in /usr/local/lib/python3.7/dist-packages (from cider) (7.1.2)\n",
            "Collecting rfc3987>=1.3.8<2.0.0\n",
            "  Downloading rfc3987-1.3.8-py2.py3-none-any.whl (13 kB)\n",
            "Collecting PyYAML>=5.1<6.0\n",
            "  Downloading PyYAML-6.0-cp37-cp37m-manylinux_2_5_x86_64.manylinux1_x86_64.manylinux_2_12_x86_64.manylinux2010_x86_64.whl (596 kB)\n",
            "\u001b[K     |████████████████████████████████| 596 kB 17.5 MB/s \n",
            "\u001b[?25hBuilding wheels for collected packages: cider\n",
            "  Building wheel for cider (setup.py) ... \u001b[?25lerror\n",
            "\u001b[31m  ERROR: Failed building wheel for cider\u001b[0m\n",
            "\u001b[?25h  Running setup.py clean for cider\n",
            "Failed to build cider\n",
            "Installing collected packages: rfc3987, PyYAML, cider\n",
            "  Attempting uninstall: PyYAML\n",
            "    Found existing installation: PyYAML 3.13\n",
            "    Uninstalling PyYAML-3.13:\n",
            "      Successfully uninstalled PyYAML-3.13\n",
            "    Running setup.py install for cider ... \u001b[?25l\u001b[?25herror\n",
            "\u001b[31mERROR: Command errored out with exit status 1: /usr/bin/python3 -u -c 'import io, os, sys, setuptools, tokenize; sys.argv[0] = '\"'\"'/tmp/pip-install-ca4eec6j/cider_d6a8da300d1c4ec39437b687e618a7c5/setup.py'\"'\"'; __file__='\"'\"'/tmp/pip-install-ca4eec6j/cider_d6a8da300d1c4ec39437b687e618a7c5/setup.py'\"'\"';f = getattr(tokenize, '\"'\"'open'\"'\"', open)(__file__) if os.path.exists(__file__) else io.StringIO('\"'\"'from setuptools import setup; setup()'\"'\"');code = f.read().replace('\"'\"'\\r\\n'\"'\"', '\"'\"'\\n'\"'\"');f.close();exec(compile(code, __file__, '\"'\"'exec'\"'\"'))' install --record /tmp/pip-record-fcgiquu4/install-record.txt --single-version-externally-managed --compile --install-headers /usr/local/include/python3.7/cider Check the logs for full command output.\u001b[0m\n"
          ]
        }
      ]
    },
    {
      "cell_type": "code",
      "source": [
        "from nltk.translate.bleu_score import sentence_bleu\n",
        "from nltk.translate.bleu_score import corpus_bleu\n",
        "from nltk.translate.meteor_score import meteor_score\n",
        "from rouge import Rouge\n",
        "import nltk\n",
        "nltk.download('wordnet')\n",
        "nltk.download('omw-1.4')\n",
        "# from cider.cider import Cider\n",
        "# from pycocoevalcap.cider.cider import Cider"
      ],
      "metadata": {
        "colab": {
          "base_uri": "https://localhost:8080/"
        },
        "id": "DrALrPQpi165",
        "outputId": "8482655a-083b-4d8f-ce51-ec305508e039"
      },
      "execution_count": null,
      "outputs": [
        {
          "output_type": "stream",
          "name": "stderr",
          "text": [
            "[nltk_data] Downloading package wordnet to /root/nltk_data...\n",
            "[nltk_data]   Unzipping corpora/wordnet.zip.\n",
            "[nltk_data] Downloading package omw-1.4 to /root/nltk_data...\n",
            "[nltk_data]   Unzipping corpora/omw-1.4.zip.\n"
          ]
        },
        {
          "output_type": "execute_result",
          "data": {
            "text/plain": [
              "True"
            ]
          },
          "metadata": {},
          "execution_count": 9
        }
      ]
    },
    {
      "cell_type": "code",
      "source": [
        "pip install rouge-score\n"
      ],
      "metadata": {
        "colab": {
          "base_uri": "https://localhost:8080/"
        },
        "id": "wsRxVn4nuLJS",
        "outputId": "697e821a-3cef-4b92-c7cb-f13c8775d1dc"
      },
      "execution_count": null,
      "outputs": [
        {
          "output_type": "stream",
          "name": "stdout",
          "text": [
            "Looking in indexes: https://pypi.org/simple, https://us-python.pkg.dev/colab-wheels/public/simple/\n",
            "Collecting rouge-score\n",
            "  Downloading rouge_score-0.0.4-py2.py3-none-any.whl (22 kB)\n",
            "Requirement already satisfied: nltk in /usr/local/lib/python3.7/dist-packages (from rouge-score) (3.7)\n",
            "Requirement already satisfied: six>=1.14.0 in /usr/local/lib/python3.7/dist-packages (from rouge-score) (1.15.0)\n",
            "Requirement already satisfied: numpy in /usr/local/lib/python3.7/dist-packages (from rouge-score) (1.21.6)\n",
            "Requirement already satisfied: absl-py in /usr/local/lib/python3.7/dist-packages (from rouge-score) (1.1.0)\n",
            "Requirement already satisfied: joblib in /usr/local/lib/python3.7/dist-packages (from nltk->rouge-score) (1.1.0)\n",
            "Requirement already satisfied: regex>=2021.8.3 in /usr/local/lib/python3.7/dist-packages (from nltk->rouge-score) (2022.6.2)\n",
            "Requirement already satisfied: tqdm in /usr/local/lib/python3.7/dist-packages (from nltk->rouge-score) (4.64.0)\n",
            "Requirement already satisfied: click in /usr/local/lib/python3.7/dist-packages (from nltk->rouge-score) (7.1.2)\n",
            "Installing collected packages: rouge-score\n",
            "Successfully installed rouge-score-0.0.4\n"
          ]
        }
      ]
    },
    {
      "cell_type": "code",
      "source": [
        "from rouge_score import rouge_scorer\n"
      ],
      "metadata": {
        "id": "GooeBykdvw2W"
      },
      "execution_count": null,
      "outputs": []
    },
    {
      "cell_type": "code",
      "source": [
        "\n",
        "def ngram_bleu(references,candidates):\n",
        "  scores = [sentence_bleu(references, candidates, weights=(1, 0, 0, 0)),sentence_bleu(references, candidates, weights=(0, 1, 0, 0)),sentence_bleu(references, candidates, weights=(0, 0, 1, 0)),sentence_bleu(references, candidates, weights=(0, 0, 0, 1))]\n",
        "\n",
        "  return(scores)\n",
        "  # print(\"N-GRAM BLEU SCORES\")\n",
        "  # print('Individual 1-gram: %f' % sentence_bleu(references, candidates, weights=(1, 0, 0, 0)))\n",
        "  # print('Individual 2-gram: %f' % sentence_bleu(references, candidates, weights=(0, 1, 0, 0)))\n",
        "  # print('Individual 3-gram: %f' % sentence_bleu(references, candidates, weights=(0, 0, 1, 0)))\n",
        "  # print('Individual 4-gram: %f' % sentence_bleu(references, candidates, weights=(0, 0, 0, 1)))\n",
        "\n",
        "def senten_bleu(references, candidates):\n",
        "  score = sentence_bleu(references, candidates)\n",
        "  return score\n",
        "\n",
        "def meteor(references, candidates):\n",
        "  score= meteor_score(references,candidates)\n",
        "  return score\n",
        "\n",
        "def rougel(references,candidates):\n",
        "  \n",
        "  rouge = Rouge()\n",
        "  score = rouge.get_scores(predicted, actual, avg=True)\n",
        "  return score\n",
        "\n",
        "# def cider(references,candidates):\n",
        "#   score= Cider(references,candidates)\n",
        "#   print(f\"CIDER SCORES: {score}\")\n"
      ],
      "metadata": {
        "id": "MO-quxmvi5Nq"
      },
      "execution_count": null,
      "outputs": []
    },
    {
      "cell_type": "code",
      "source": [
        "def evaluate_model(references,candidates):\n",
        "  references=[references[-1].split()]\n",
        "  candidates=candidates[-1].split()\n",
        "  # print(references)\n",
        "  # print(candidates)\n",
        "  scores = {\"Ngram Bleu\" : ngram_bleu(references,candidates) , \n",
        "            \"Sentence Bleu\":senten_bleu(references, candidates),\n",
        "            \"Meteor score\": meteor(references,candidates),\n",
        "            \"Rouge Score\" :rougel(references,candidates) }\n",
        "\n",
        "  return scores"
      ],
      "metadata": {
        "id": "qCXC-8RRi-5A"
      },
      "execution_count": null,
      "outputs": []
    },
    {
      "cell_type": "code",
      "source": [
        "eval = evaluate_model(actual,predicted)\n",
        "print(eval)"
      ],
      "metadata": {
        "colab": {
          "base_uri": "https://localhost:8080/"
        },
        "id": "lDsghz3OjBnw",
        "outputId": "ba29c865-c347-4365-c6f8-46e44a21f6c7"
      },
      "execution_count": null,
      "outputs": [
        {
          "output_type": "stream",
          "name": "stdout",
          "text": [
            "{'Ngram Bleu': [0.1590909090909091, 0.11627906976744189, 0.09523809523809525, 0.07317073170731705], 'Sentence Bleu': 0.10655498022151062, 'Meteor score': 0.9999941303531179, 'Rouge Score': {'rouge-1': {'r': 0.1590909090909091, 'p': 0.1590909090909091, 'f': 0.15909090409090926}, 'rouge-2': {'r': 0.11627906976744186, 'p': 0.11627906976744186, 'f': 0.11627906476744207}, 'rouge-l': {'r': 0.1590909090909091, 'p': 0.1590909090909091, 'f': 0.15909090409090926}}}\n"
          ]
        }
      ]
    }
  ]
}